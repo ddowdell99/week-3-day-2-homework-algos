{
 "cells": [
  {
   "cell_type": "markdown",
   "metadata": {},
   "source": [
    "# Algorithms, Binary Search & Linked Lists"
   ]
  },
  {
   "cell_type": "markdown",
   "metadata": {},
   "source": [
    "## Tasks Today:\n",
    " \n",
    "1) <b>In-Place Algorithms</b> <br>\n",
    " &nbsp;&nbsp;&nbsp;&nbsp; a) Syntax <br>\n",
    " &nbsp;&nbsp;&nbsp;&nbsp; a) Out of Place Algorithm <br>\n",
    " &nbsp;&nbsp;&nbsp;&nbsp; b) In-Class Exercise #1 <br>\n",
    "2) <b>Two Pointers</b> <br>\n",
    "3) <b>Linked Lists</b> <br>\n",
    "4) <b>Merge Sort</b> <br>\n",
    " &nbsp;&nbsp;&nbsp;&nbsp; a) Video on Algorithms <br>\n",
    " &nbsp;&nbsp;&nbsp;&nbsp; b) How it Works <br>\n",
    "5) <b>Exercises</b> <br>\n",
    " &nbsp;&nbsp;&nbsp;&nbsp; a) Exercise #1 - Reverse a List in Place Using an In-Place Algorithm <br>\n",
    " &nbsp;&nbsp;&nbsp;&nbsp; b) Exercise #2 - Find Distinct Words <br>\n",
    " &nbsp;&nbsp;&nbsp;&nbsp; c) Exercise #3 - Write a program to implement a Linear Search Algorithm. <br>"
   ]
  },
  {
   "cell_type": "markdown",
   "metadata": {},
   "source": [
    "## In-Place Algorithms"
   ]
  },
  {
   "cell_type": "markdown",
   "metadata": {},
   "source": [
    "#### Syntax"
   ]
  },
  {
   "cell_type": "code",
   "execution_count": 6,
   "metadata": {},
   "outputs": [
    {
     "name": "stdout",
     "output_type": "stream",
     "text": [
      "Before swap: [1, 65, 65, 66, 4]\n",
      "After swap: [1, 4, 65, 66, 65]\n",
      "Output: None\n"
     ]
    }
   ],
   "source": [
    "# swap algorithm\n",
    "\n",
    "def swap(nums, i1, i2):\n",
    "    nums[i1], nums[i2] = nums[i2], nums[i1]\n",
    "#     temp = nums[i1] # store temp var\n",
    "#     nums[i1] = nums[i2]\n",
    "#     nums[i2] = temp\n",
    "    \n",
    "l1 = [1 , 65, 65, 66, 4]\n",
    "print(f'Before swap: {l1}')\n",
    "output = swap(l1, 1, 4)\n",
    "print(f'After swap: {l1}')\n",
    "print(f'Output: {output}')"
   ]
  },
  {
   "cell_type": "markdown",
   "metadata": {},
   "source": [
    "#### Out of Place Algorithm"
   ]
  },
  {
   "cell_type": "code",
   "execution_count": 7,
   "metadata": {},
   "outputs": [
    {
     "name": "stdout",
     "output_type": "stream",
     "text": [
      "Before swap: [1, 65, 65, 66, 4]\n",
      "After swap: [1, 65, 65, 66, 4]\n",
      "Output: [1, 4, 65, 66, 65]\n"
     ]
    }
   ],
   "source": [
    "def swap(nums, i1, i2):\n",
    "    copy = nums[:]\n",
    "    copy[i1], copy[i2] = copy[i2], copy[i1]\n",
    "    return copy\n",
    "    \n",
    "l1 = [1 , 65, 65, 66, 4]\n",
    "print(f'Before swap: {l1}')\n",
    "output = swap(l1, 1, 4)\n",
    "print(f'After swap: {l1}')\n",
    "print(f'Output: {output}')\n"
   ]
  },
  {
   "cell_type": "markdown",
   "metadata": {},
   "source": [
    "#### In-Class Exercise #1 <br>\n",
    "<p>Write a function that takes in four arguments (list, index1, index2, index3), and swaps those three positions in the list passed in.</p>"
   ]
  },
  {
   "cell_type": "code",
   "execution_count": null,
   "metadata": {},
   "outputs": [],
   "source": [
    "l_1 = [10, 4, 3, 8, 4, 2, 6]\n",
    "\n",
    "def swap3(nums, i1, i2, i3):\n",
    "    nums[i1], nums[i2], nums[i3] = nums[i2], nums[i3], nums[i1]\n",
    "\n",
    "swap3(l_1, 0, 4, 2)\n",
    "print(l_1)"
   ]
  },
  {
   "cell_type": "markdown",
   "metadata": {},
   "source": [
    "## Two Pointers"
   ]
  },
  {
   "cell_type": "markdown",
   "metadata": {},
   "source": [
    "#### Syntax"
   ]
  },
  {
   "cell_type": "code",
   "execution_count": 1,
   "metadata": {},
   "outputs": [
    {
     "name": "stdout",
     "output_type": "stream",
     "text": [
      "[200, 17, 65, 22, 211, 65, 44]\n"
     ]
    }
   ],
   "source": [
    "# use two pointers to swap, can use a while loop in most cases\n",
    "\n",
    "def swap(nums, i1, i2):\n",
    "    nums[i1], nums[i2] = nums[i2], nums[i1]\n",
    "\n",
    "def reverseTwoPointer(nums):\n",
    "    # create the pointers (len(5)-1 same as [-1])\n",
    "    left = 0\n",
    "    right = len(nums)-1\n",
    "    # when do our pointers move/ stop moving\n",
    "    while left < right:\n",
    "        if nums[left] %2 == 0 and nums[right]%2 ==0:\n",
    "            swap(nums, left, right)\n",
    "        left += 1\n",
    "        right -= 1\n",
    "        \n",
    "list2 = [44, 17, 65, 22, 211, 65, 200]\n",
    "reverseTwoPointer(list2)\n",
    "print(list2)\n",
    "        "
   ]
  },
  {
   "cell_type": "markdown",
   "metadata": {},
   "source": [
    "#### Video of Algorithms <br>\n",
    "<p>Watch the video about algorithms.</p>\n",
    "\n",
    "https://www.youtube.com/watch?v=Q9HjeFD62Uk\n",
    "\n",
    "https://www.youtube.com/watch?v=kPRA0W1kECg\n",
    "\n",
    "https://www.youtube.com/watch?v=ZZuD6iUe3Pc"
   ]
  },
  {
   "cell_type": "markdown",
   "metadata": {},
   "source": [
    "# Sorting Algorithms"
   ]
  },
  {
   "cell_type": "markdown",
   "metadata": {},
   "source": [
    "#### Bubble Sort\n",
    "\n",
    "Worst Case: O(n^2) Time - O(1) Space"
   ]
  },
  {
   "cell_type": "code",
   "execution_count": 3,
   "metadata": {},
   "outputs": [
    {
     "name": "stdout",
     "output_type": "stream",
     "text": [
      "[1, 2, 5, 9, 11, 20, 100, 191]\n"
     ]
    }
   ],
   "source": [
    "def swap(nums, i1, i2):\n",
    "    nums[i1], nums[i2] = nums[i2], nums[i1]\n",
    "    \n",
    "def bubbleSort(nums):\n",
    "    isSorted = False\n",
    "    count = 0\n",
    "    while not isSorted:\n",
    "        isSorted = True\n",
    "        for i in range(len(nums)-1-count):\n",
    "            if nums[i] > nums[i+1]:\n",
    "                swap(nums, i, i+1)\n",
    "                isSorted = False\n",
    "        count += 1\n",
    "\n",
    "    \n",
    "    \n",
    "l12 = [1,5,11,20,9,100,191,2]\n",
    "bubbleSort(l12)\n",
    "print(l12)"
   ]
  },
  {
   "cell_type": "markdown",
   "metadata": {},
   "source": [
    "##### Insertion Sort\n",
    "\n",
    "Worst Case: O(n^2) time - O(1)space"
   ]
  },
  {
   "cell_type": "code",
   "execution_count": 6,
   "metadata": {},
   "outputs": [
    {
     "name": "stdout",
     "output_type": "stream",
     "text": [
      "[-2, 1, 5, 9, 11, 20, 100, 191]\n"
     ]
    }
   ],
   "source": [
    "def swap(nums, i1, i2):\n",
    "    nums[i1], nums[i2] = nums[i2], nums[i1]\n",
    "    \n",
    "def insertionSort(nums):\n",
    "    for i in range(1, len(nums)):\n",
    "        j = i\n",
    "        while j > 0 and nums[j] < nums[j-1]:\n",
    "            swap(nums, j, j-1)\n",
    "            j -= 1\n",
    "            \n",
    "l12 = [1,5,11,20,9,100,191,-2]\n",
    "insertionSort(l12)\n",
    "print(l12)          \n"
   ]
  },
  {
   "cell_type": "markdown",
   "metadata": {},
   "source": [
    "## Merge Sort"
   ]
  },
  {
   "cell_type": "markdown",
   "metadata": {},
   "source": [
    "#### How it Works"
   ]
  },
  {
   "cell_type": "code",
   "execution_count": 10,
   "metadata": {},
   "outputs": [
    {
     "name": "stdout",
     "output_type": "stream",
     "text": [
      "Splitting... [1, 5, 11, 20, 9, 100, 191, -2, 6]\n",
      "Splitting... [1, 5, 11, 20]\n",
      "Splitting... [1, 5]\n",
      "Splitting... [1]\n",
      "Splitting... [5]\n",
      "merging... [1, 5]\n",
      "Splitting... [11, 20]\n",
      "Splitting... [11]\n",
      "Splitting... [20]\n",
      "merging... [11, 20]\n",
      "merging... [1, 5, 11, 20]\n",
      "Splitting... [9, 100, 191, -2, 6]\n",
      "Splitting... [9, 100]\n",
      "Splitting... [9]\n",
      "Splitting... [100]\n",
      "merging... [9, 100]\n",
      "Splitting... [191, -2, 6]\n",
      "Splitting... [191]\n",
      "Splitting... [-2, 6]\n",
      "Splitting... [-2]\n",
      "Splitting... [6]\n",
      "merging... [-2, 6]\n",
      "merging... [-2, 6, 191]\n",
      "merging... [-2, 6, 9, 100, 191]\n",
      "merging... [-2, 1, 5, 6, 9, 11, 20, 100, 191]\n",
      "[-2, 1, 5, 6, 9, 11, 20, 100, 191]\n"
     ]
    }
   ],
   "source": [
    "# step 1: split everything into its own group\n",
    "# step 2: from left to right, merge groups together\n",
    "#step 3: while merging, place items into correct position\n",
    "# step 4: Repeat\n",
    "\n",
    "def mergeSort(nums):\n",
    "    print('Splitting...', nums)\n",
    "    # step 1: divide the list into equal parts (as evenly as possible)\n",
    "    if len(nums) > 1:\n",
    "        mid = len(nums) // 2\n",
    "        lefthalf = nums[:mid]\n",
    "        righthalf = nums[mid:]\n",
    "        \n",
    "        # recursively repeat mergeSort to continue splitting\n",
    "        mergeSort(lefthalf)\n",
    "        mergeSort(righthalf)\n",
    "        \n",
    "        # index pointers for our list\n",
    "        i = 0\n",
    "        j = 0\n",
    "        k = 0\n",
    "        \n",
    "        # step 2: Compare left and right halves and merge\n",
    "        while i < len(lefthalf) and j < len(righthalf):\n",
    "            if lefthalf[i] < righthalf[j]:\n",
    "                nums[k] = lefthalf[i]\n",
    "                i += 1\n",
    "            else:\n",
    "                nums[k] = righthalf[j]\n",
    "                j += 1\n",
    "            k += 1\n",
    "            \n",
    "        # step 3: \n",
    "        while i < len(lefthalf):\n",
    "            nums[k] = lefthalf[i]\n",
    "            i += 1\n",
    "            k += 1\n",
    "            \n",
    "        while j < len(righthalf):\n",
    "            nums[k] = righthalf[j]\n",
    "            j += 1\n",
    "            k += 1\n",
    "        print('merging...', nums)\n",
    "l12 = [1,5,11,20,9,100,191,-2, 6]\n",
    "mergeSort(l12)\n",
    "print(l12)         \n"
   ]
  },
  {
   "cell_type": "markdown",
   "metadata": {},
   "source": [
    "# Binary Search\n",
    "\n",
    "The Binary Search algorithm works by finding the number in the middle of a given array and comparing it to the target. Given that the array is sorted\n",
    "\n",
    "* The worst case run time for this algorithm is `O(log(n))`"
   ]
  },
  {
   "cell_type": "code",
   "execution_count": null,
   "metadata": {},
   "outputs": [],
   "source": [
    "# what you are looking through MUST BE SORTED\n",
    "\n",
    "def binarySearch(nums, target):\n",
    "    left = 0\n",
    "    right = len(nums) - 1\n",
    "    \n",
    "    while left <= right:\n",
    "        middle = (left + right) // 2\n",
    "        guess = nums[middle]\n",
    "        if target == guess:\n",
    "            return f'I FOUND {target} at index {middle}'\n",
    "        elif target < guess:\n",
    "            # right needs to move\n",
    "            right = middle - 1\n",
    "        elif target > guess:\n",
    "            left = middle + 1\n",
    "    return 'What you are looking for does not exist'\n",
    "\n",
    "binarySearch([1,2,3,4,5,6,7,10,11,13,55,66,77,89,947,1000], 947)"
   ]
  },
  {
   "cell_type": "markdown",
   "metadata": {},
   "source": [
    "# Exercises"
   ]
  },
  {
   "cell_type": "markdown",
   "metadata": {},
   "source": [
    "### Exercise #1 <br>\n",
    "<p>Reverse the list below in-place using an in-place algorithm.<br>For extra credit: Reverse the strings at the same time.</p>"
   ]
  },
  {
   "cell_type": "code",
   "execution_count": 49,
   "metadata": {},
   "outputs": [
    {
     "name": "stdout",
     "output_type": "stream",
     "text": [
      "['.', 'looc', 'yrev', 'si', 'etnaid']\n"
     ]
    }
   ],
   "source": [
    "words = ['diante' , 'is', 'very', 'cool', '.']\n",
    "\n",
    "def swap(nums, i1, i2):\n",
    "    nums[i1], nums[i2] = nums[i2], nums[i1]\n",
    "\n",
    "def reverseStringAndLetters(string):\n",
    "    string = [letter[::-1] for letter in string]\n",
    "    left = 0\n",
    "    right = len(string) - 1\n",
    "    while left < right:\n",
    "        swap(string, left, right)\n",
    "        left += 1\n",
    "        right -= 1\n",
    "    return string # this return needed to go under while not IN while\n",
    "            \n",
    "print(reverseStringAndLetters(words))\n",
    "\n",
    "        \n"
   ]
  },
  {
   "cell_type": "markdown",
   "metadata": {},
   "source": [
    "### Exercise #2 <br>\n",
    "<p>Create a function that counts how many distinct words are in the string below, then outputs a dictionary with the words as the key and the value as the amount of times that word appears in the string.<br>Should output:<br>{'a': 5,<br>\n",
    " 'abstract': 1,<br>\n",
    " 'an': 3,<br>\n",
    " 'array': 2, ... etc...</p>"
   ]
  },
  {
   "cell_type": "code",
   "execution_count": 38,
   "metadata": {},
   "outputs": [
    {
     "name": "stdout",
     "output_type": "stream",
     "text": [
      "{'in': 1, 'computing,': 1, 'a': 5, 'hash': 4, 'table': 2, 'map': 2, 'is': 1, 'data': 2, 'structure': 2, 'which': 2, 'implements': 1, 'an': 3, 'associative': 1, 'array': 2, 'abstract': 1, 'type,': 1, 'that': 1, 'can': 2, 'keys': 1, 'to': 2, 'values.': 1, 'uses': 1, 'function': 1, 'compute': 1, 'index': 1, 'into': 1, 'of': 1, 'buckets': 1, 'or': 1, 'slots': 1, 'from': 1, 'the': 1, 'desired': 1, 'value': 1, 'be': 1, 'found': 1}\n"
     ]
    }
   ],
   "source": [
    "a_text = 'In computing, a hash table hash map is a data structure which implements an associative array abstract data type, a structure that can map keys to values. A hash table uses a hash function to compute an index into an array of buckets or slots from which the desired value can be found'\n",
    "\n",
    "dictOfWords = {}\n",
    "count = 1\n",
    "\n",
    "def countOfWords(string):\n",
    "    for word in string.split():\n",
    "        if word.lower() not in dictOfWords:\n",
    "            dictOfWords[word.lower()] = count\n",
    "        else:\n",
    "            dictOfWords[word.lower()] += count\n",
    "    return dictOfWords\n",
    "            \n",
    "# ez\n",
    "\n",
    "print(countOfWords(a_text))\n",
    "            "
   ]
  },
  {
   "cell_type": "markdown",
   "metadata": {},
   "source": [
    "## Exercise #3\n",
    "\n",
    "Write a program to implement a Linear Search Algorithm. Also in a comment, write the Time Complexity of the following algorithm.\n",
    "\n",
    "#### Hint: Linear Searching will require searching a list for a given number. "
   ]
  },
  {
   "cell_type": "code",
   "execution_count": 48,
   "metadata": {},
   "outputs": [
    {
     "name": "stdout",
     "output_type": "stream",
     "text": [
      "Your target number \"35\" is at index 5\n"
     ]
    }
   ],
   "source": [
    "def linearSearch(nums,target):\n",
    "    for i in range(len(nums)):\n",
    "        if nums[i] == target:\n",
    "            return (f'Your target number \"{target}\" is at index {i}')\n",
    "        else:\n",
    "            i += 1\n",
    "        \n",
    "    return print(f'Your target number \"{target}\" is not in the given list!')\n",
    "            \n",
    "print(linearSearch([14,16,22,84,102,35],35))   "
   ]
  }
 ],
 "metadata": {
  "kernelspec": {
   "display_name": "Python 3 (ipykernel)",
   "language": "python",
   "name": "python3"
  },
  "language_info": {
   "codemirror_mode": {
    "name": "ipython",
    "version": 3
   },
   "file_extension": ".py",
   "mimetype": "text/x-python",
   "name": "python",
   "nbconvert_exporter": "python",
   "pygments_lexer": "ipython3",
   "version": "3.10.6"
  },
  "vscode": {
   "interpreter": {
    "hash": "87220f4e606ddb4011a300182c63ab1cb1c388f3c54245acea6270daedab6473"
   }
  }
 },
 "nbformat": 4,
 "nbformat_minor": 2
}
